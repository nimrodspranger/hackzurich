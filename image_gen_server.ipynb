{
  "nbformat": 4,
  "nbformat_minor": 0,
  "metadata": {
    "colab": {
      "name": "stable-diffusion.ipynb",
      "private_outputs": true,
      "provenance": []
    },
    "kernelspec": {
      "name": "python3",
      "display_name": "Python 3"
    },
    "language_info": {
      "name": "python"
    },
    "accelerator": "GPU",
    "gpuClass": "standard"
  },
  "cells": [
    {
      "cell_type": "code",
      "source": [
        "%pip install --quiet --upgrade diffusers transformers accelerate invisible_watermark mediapy"
      ],
      "metadata": {
        "id": "ufD_d64nr08H"
      },
      "execution_count": null,
      "outputs": []
    },
    {
      "cell_type": "code",
      "source": [
        "use_refiner = False"
      ],
      "metadata": {
        "id": "hRVsA7iYxpMj"
      },
      "execution_count": null,
      "outputs": []
    },
    {
      "cell_type": "code",
      "source": [
        "import mediapy as media\n",
        "import random\n",
        "import sys\n",
        "import torch\n",
        "\n",
        "from diffusers import DiffusionPipeline\n",
        "\n",
        "pipe = DiffusionPipeline.from_pretrained(\n",
        "    \"stabilityai/stable-diffusion-xl-base-1.0\",\n",
        "    torch_dtype=torch.float16,\n",
        "    use_safetensors=True,\n",
        "    variant=\"fp16\",\n",
        "    )\n",
        "\n",
        "if use_refiner:\n",
        "  refiner = DiffusionPipeline.from_pretrained(\n",
        "      \"stabilityai/stable-diffusion-xl-refiner-1.0\",\n",
        "      text_encoder_2=pipe.text_encoder_2,\n",
        "      vae=pipe.vae,\n",
        "      torch_dtype=torch.float16,\n",
        "      use_safetensors=True,\n",
        "      variant=\"fp16\",\n",
        "  )\n",
        "\n",
        "  refiner = refiner.to(\"cuda\")\n",
        "\n",
        "  pipe.enable_model_cpu_offload()\n",
        "else:\n",
        "  pipe = pipe.to(\"cuda\")"
      ],
      "metadata": {
        "id": "bG2hkmSEvByV"
      },
      "execution_count": null,
      "outputs": []
    },
    {
      "cell_type": "code",
      "source": [
        "prompt_str = \"Minimalistic room with wooden flooring, white walls. Quality wood bed, muted white nightstand. Organized wardrobe with 10 jeans, four shoe pairs. A bicycle, laptop for work, and small wooden table.\"\n",
        "seed = random.randint(0, sys.maxsize)\n",
        "\n",
        "def generate_images(prompt: str):\n",
        "  images = pipe(\n",
        "      prompt = prompt,\n",
        "      output_type = \"latent\" if use_refiner else \"pil\",\n",
        "      generator = torch.Generator(\"cuda\").manual_seed(seed),\n",
        "      ).images\n",
        "\n",
        "  if use_refiner:\n",
        "    images = refiner(\n",
        "        prompt = prompt,\n",
        "        image = images,\n",
        "        ).images\n",
        "  return images\n",
        "\n",
        "images = generate_images(prompt_str)\n",
        "\n",
        "print(f\"Prompt:\\t{prompt_str}\\nSeed:\\t{seed}\")\n",
        "media.show_images(images)\n",
        "images[0].save(\"output.jpg\")\n"
      ],
      "metadata": {
        "id": "AUc4QJfE-uR9"
      },
      "execution_count": null,
      "outputs": []
    },
    {
      "cell_type": "code",
      "source": [
        "!pip install flask ngrok flask-ngrok  pyngrok"
      ],
      "metadata": {
        "id": "f82ZkzWo0rly"
      },
      "execution_count": null,
      "outputs": []
    },
    {
      "cell_type": "code",
      "source": [
        "from PIL import Image\n",
        "import io\n",
        "\n",
        "def image_to_byte_array(image: Image):\n",
        "  imgByteArr = io.BytesIO()\n",
        "  image.save(imgByteArr, format=image.format)\n",
        "  imgByteArr = imgByteArr.getvalue()\n",
        "  return imgByteArr"
      ],
      "metadata": {
        "id": "6SMG34-5KT_8"
      },
      "execution_count": null,
      "outputs": []
    },
    {
      "cell_type": "code",
      "source": [
        "from flask import Flask, jsonify\n",
        "from threading import Timer\n",
        "from flask_ngrok import run_with_ngrok\n",
        "from pyngrok import ngrok, conf\n",
        "from flask import request, send_file\n",
        "import io\n",
        "from PIL import Image\n",
        "from flask import current_app\n",
        "import json\n",
        "import requests\n",
        "\n",
        "app = Flask(__name__)\n",
        "token = \"\"# Generate your token at https://dashboard.ngrok.com/ and add it here\n",
        "conf.get_default().auth_token = token\n",
        "\n",
        "@app.route('/hello', methods=['GET'])\n",
        "def hello():\n",
        "    return jsonify(message=\"hello\")\n",
        "\n",
        "@app.route('/get_image', methods=['GET'])\n",
        "def test_image():\n",
        "    return send_file('pule.jpg', mimetype='image/jpg')\n",
        "    # return current_app.send_static_file('output.jpg')\n",
        "\n",
        "\n",
        "@app.route('/get_image_json', methods=['GET'])\n",
        "def get_image_json():\n",
        "  tunnel_url = requests.get(\"http://localhost:4040/api/tunnels\").text\n",
        "  di = json.loads(tunnel_url)\n",
        "  public_url = di[\"tunnels\"][0][\"public_url\"]\n",
        "  out_dict = {\"created\": 123, \"data\": [{\"url\": \"{}/get_image\".format(public_url)}]}\n",
        "  return jsonify(out_dict)\n",
        "  # json.loads('{ \"created\": 1694880584, \"data\": [ { \"url\": \"https://en.m.wikipedia.org/wiki/File:Cute_dog.jpg\" } ] }')\n",
        "    # return send_file('output.jpg', mimetype='image/jpg')\n",
        "    # return current_app.send_static_file('output.jpg')\n",
        "\n",
        "\n",
        "\n",
        "@app.route('/generate_image', methods=['GET', 'POST'])\n",
        "def generate_image():\n",
        "    data = request.get_json()\n",
        "    prompt = data['prompt']\n",
        "    print(prompt)\n",
        "    images = generate_images(prompt)\n",
        "    images[-1].save(\"pule.jpg\")\n",
        "    return send_file('pule.jpg', mimetype='image/jpg')\n",
        "\n",
        "\n",
        "def stop():\n",
        "    app.stop()\n",
        "\n"
      ],
      "metadata": {
        "id": "EAQ7N9LC7nTc"
      },
      "execution_count": null,
      "outputs": []
    },
    {
      "cell_type": "code",
      "source": [
        "# run for 8 hours (28800 seconds) then stop\n",
        "run_with_ngrok(app)\n",
        "\n",
        "t = Timer(28800.0, stop)\n",
        "t.start()\n",
        "\n",
        "app.run()"
      ],
      "metadata": {
        "id": "nZzlFaUfxPU4"
      },
      "execution_count": null,
      "outputs": []
    }
  ]
}